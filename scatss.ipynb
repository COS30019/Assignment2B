{
 "cells": [
  {
   "cell_type": "code",
   "execution_count": 2,
   "id": "4f8fc3b2-f3c6-483d-b08d-6d10ccf6e92f",
   "metadata": {},
   "outputs": [],
   "source": [
    "import pandas as pd\n",
    "import numpy as np\n",
    "import seaborn as sns\n",
    "import matplotlib.pyplot as plt"
   ]
  },
  {
   "cell_type": "markdown",
   "id": "db7d9ee0-c4d7-4bbf-9257-fd0097c0ee2e",
   "metadata": {},
   "source": [
    "## read data"
   ]
  },
  {
   "cell_type": "code",
   "execution_count": 12,
   "id": "4b688098-b05f-4e90-8dd3-371dfbf628c9",
   "metadata": {},
   "outputs": [
    {
     "data": {
      "text/html": [
       "<div>\n",
       "<style scoped>\n",
       "    .dataframe tbody tr th:only-of-type {\n",
       "        vertical-align: middle;\n",
       "    }\n",
       "\n",
       "    .dataframe tbody tr th {\n",
       "        vertical-align: top;\n",
       "    }\n",
       "\n",
       "    .dataframe thead th {\n",
       "        text-align: right;\n",
       "    }\n",
       "</style>\n",
       "<table border=\"1\" class=\"dataframe\">\n",
       "  <thead>\n",
       "    <tr style=\"text-align: right;\">\n",
       "      <th></th>\n",
       "      <th>Site Number</th>\n",
       "      <th>Location Description</th>\n",
       "      <th>Site Type</th>\n",
       "      <th>Directory</th>\n",
       "      <th>Map reference</th>\n",
       "      <th>Unnamed: 5</th>\n",
       "      <th>Unnamed: 6</th>\n",
       "      <th>Unnamed: 7</th>\n",
       "      <th>Unnamed: 8</th>\n",
       "    </tr>\n",
       "  </thead>\n",
       "  <tbody>\n",
       "    <tr>\n",
       "      <th>0</th>\n",
       "      <td>964</td>\n",
       "      <td>ABBOTTS/CLELANDS DEVELOPMENTS</td>\n",
       "      <td>INT</td>\n",
       "      <td>Melway</td>\n",
       "      <td>095G08</td>\n",
       "      <td>NaN</td>\n",
       "      <td>NaN</td>\n",
       "      <td>NaN</td>\n",
       "      <td>NaN</td>\n",
       "    </tr>\n",
       "    <tr>\n",
       "      <th>1</th>\n",
       "      <td>968</td>\n",
       "      <td>ABBOTTS/GAINE/MONASH</td>\n",
       "      <td>INT</td>\n",
       "      <td>Melway</td>\n",
       "      <td>095K08</td>\n",
       "      <td>NaN</td>\n",
       "      <td>NaN</td>\n",
       "      <td>NaN</td>\n",
       "      <td>NaN</td>\n",
       "    </tr>\n",
       "    <tr>\n",
       "      <th>2</th>\n",
       "      <td>972</td>\n",
       "      <td>ABBOTTS/NATIONAL</td>\n",
       "      <td>INT</td>\n",
       "      <td>Melway</td>\n",
       "      <td>95J08</td>\n",
       "      <td>NaN</td>\n",
       "      <td>NaN</td>\n",
       "      <td>NaN</td>\n",
       "      <td>NaN</td>\n",
       "    </tr>\n",
       "    <tr>\n",
       "      <th>3</th>\n",
       "      <td>983</td>\n",
       "      <td>ABBOTTS/REMINGTON</td>\n",
       "      <td>INT</td>\n",
       "      <td>Melway</td>\n",
       "      <td>095G08</td>\n",
       "      <td>NaN</td>\n",
       "      <td>NaN</td>\n",
       "      <td>NaN</td>\n",
       "      <td>NaN</td>\n",
       "    </tr>\n",
       "    <tr>\n",
       "      <th>4</th>\n",
       "      <td>1053</td>\n",
       "      <td>ABBOTTSFORD/HAINES</td>\n",
       "      <td>INT</td>\n",
       "      <td>Melway</td>\n",
       "      <td>2A-G07</td>\n",
       "      <td>NaN</td>\n",
       "      <td>NaN</td>\n",
       "      <td>NaN</td>\n",
       "      <td>NaN</td>\n",
       "    </tr>\n",
       "  </tbody>\n",
       "</table>\n",
       "</div>"
      ],
      "text/plain": [
       "   Site Number           Location Description Site Type Directory  \\\n",
       "0          964  ABBOTTS/CLELANDS DEVELOPMENTS       INT    Melway   \n",
       "1          968           ABBOTTS/GAINE/MONASH       INT    Melway   \n",
       "2          972               ABBOTTS/NATIONAL       INT    Melway   \n",
       "3          983              ABBOTTS/REMINGTON       INT    Melway   \n",
       "4         1053             ABBOTTSFORD/HAINES       INT    Melway   \n",
       "\n",
       "  Map reference   Unnamed: 5  Unnamed: 6  Unnamed: 7  Unnamed: 8  \n",
       "0         095G08         NaN         NaN         NaN         NaN  \n",
       "1         095K08         NaN         NaN         NaN         NaN  \n",
       "2          95J08         NaN         NaN         NaN         NaN  \n",
       "3         095G08         NaN         NaN         NaN         NaN  \n",
       "4         2A-G07         NaN         NaN         NaN         NaN  "
      ]
     },
     "execution_count": 12,
     "metadata": {},
     "output_type": "execute_result"
    }
   ],
   "source": [
    "site_df = pd.read_csv('/Users/mouyly/Downloads/jupiter_notebook/SCATS_cleaned.csv' , skiprows=9)\n",
    "site_df.head()\n"
   ]
  },
  {
   "cell_type": "code",
   "execution_count": 13,
   "id": "fb76d565-8df9-4306-b06d-983e0fcb25b6",
   "metadata": {},
   "outputs": [
    {
     "data": {
      "text/html": [
       "<div>\n",
       "<style scoped>\n",
       "    .dataframe tbody tr th:only-of-type {\n",
       "        vertical-align: middle;\n",
       "    }\n",
       "\n",
       "    .dataframe tbody tr th {\n",
       "        vertical-align: top;\n",
       "    }\n",
       "\n",
       "    .dataframe thead th {\n",
       "        text-align: right;\n",
       "    }\n",
       "</style>\n",
       "<table border=\"1\" class=\"dataframe\">\n",
       "  <thead>\n",
       "    <tr style=\"text-align: right;\">\n",
       "      <th></th>\n",
       "      <th>Site Number</th>\n",
       "      <th>Location Description</th>\n",
       "      <th>Site Type</th>\n",
       "      <th>Directory</th>\n",
       "      <th>Map reference</th>\n",
       "    </tr>\n",
       "  </thead>\n",
       "  <tbody>\n",
       "    <tr>\n",
       "      <th>0</th>\n",
       "      <td>964</td>\n",
       "      <td>ABBOTTS/CLELANDS DEVELOPMENTS</td>\n",
       "      <td>INT</td>\n",
       "      <td>Melway</td>\n",
       "      <td>095G08</td>\n",
       "    </tr>\n",
       "    <tr>\n",
       "      <th>1</th>\n",
       "      <td>968</td>\n",
       "      <td>ABBOTTS/GAINE/MONASH</td>\n",
       "      <td>INT</td>\n",
       "      <td>Melway</td>\n",
       "      <td>095K08</td>\n",
       "    </tr>\n",
       "    <tr>\n",
       "      <th>2</th>\n",
       "      <td>972</td>\n",
       "      <td>ABBOTTS/NATIONAL</td>\n",
       "      <td>INT</td>\n",
       "      <td>Melway</td>\n",
       "      <td>95J08</td>\n",
       "    </tr>\n",
       "    <tr>\n",
       "      <th>3</th>\n",
       "      <td>983</td>\n",
       "      <td>ABBOTTS/REMINGTON</td>\n",
       "      <td>INT</td>\n",
       "      <td>Melway</td>\n",
       "      <td>095G08</td>\n",
       "    </tr>\n",
       "    <tr>\n",
       "      <th>4</th>\n",
       "      <td>1053</td>\n",
       "      <td>ABBOTTSFORD/HAINES</td>\n",
       "      <td>INT</td>\n",
       "      <td>Melway</td>\n",
       "      <td>2A-G07</td>\n",
       "    </tr>\n",
       "  </tbody>\n",
       "</table>\n",
       "</div>"
      ],
      "text/plain": [
       "   Site Number           Location Description Site Type Directory  \\\n",
       "0          964  ABBOTTS/CLELANDS DEVELOPMENTS       INT    Melway   \n",
       "1          968           ABBOTTS/GAINE/MONASH       INT    Melway   \n",
       "2          972               ABBOTTS/NATIONAL       INT    Melway   \n",
       "3          983              ABBOTTS/REMINGTON       INT    Melway   \n",
       "4         1053             ABBOTTSFORD/HAINES       INT    Melway   \n",
       "\n",
       "  Map reference   \n",
       "0         095G08  \n",
       "1         095K08  \n",
       "2          95J08  \n",
       "3         095G08  \n",
       "4         2A-G07  "
      ]
     },
     "execution_count": 13,
     "metadata": {},
     "output_type": "execute_result"
    }
   ],
   "source": [
    "# Drop columns that are completely empty (all NaN)\n",
    "site_df = site_df.dropna(axis=1, how='all')\n",
    "\n",
    "# Preview cleaned dataframe\n",
    "site_df.head()\n"
   ]
  },
  {
   "cell_type": "code",
   "execution_count": 14,
   "id": "a48fd9b4-307d-4ce6-b732-2006ab26ee0a",
   "metadata": {},
   "outputs": [
    {
     "name": "stdout",
     "output_type": "stream",
     "text": [
      "Index(['Site Number', 'Location Description', 'Site Type', 'Directory',\n",
      "       'Map reference '],\n",
      "      dtype='object')\n"
     ]
    }
   ],
   "source": [
    "print(site_df.columns)\n"
   ]
  },
  {
   "cell_type": "markdown",
   "id": "161b5088-f832-4b35-a105-54b27bc0487b",
   "metadata": {},
   "source": [
    "## clean the data"
   ]
  },
  {
   "cell_type": "markdown",
   "id": "ce6f0fa9-43e6-44a6-9d81-99337ed2f9e2",
   "metadata": {},
   "source": [
    "### check for missing value"
   ]
  },
  {
   "cell_type": "code",
   "execution_count": 16,
   "id": "913a45cc-7418-4575-826f-e7ec74ddcfbc",
   "metadata": {},
   "outputs": [
    {
     "data": {
      "text/plain": [
       "Site_Number               0\n",
       "Location_Description      0\n",
       "Site_Type                 0\n",
       "Directory               202\n",
       "Map_reference           341\n",
       "dtype: int64"
      ]
     },
     "execution_count": 16,
     "metadata": {},
     "output_type": "execute_result"
    }
   ],
   "source": [
    "site_df.isnull().sum()\n"
   ]
  },
  {
   "cell_type": "code",
   "execution_count": 18,
   "id": "9de5febf-3cae-46e6-897f-675631b66b97",
   "metadata": {},
   "outputs": [
    {
     "name": "stdout",
     "output_type": "stream",
     "text": [
      "['Site_Number', 'Location_Description', 'Site_Type', 'Directory', 'Map_reference']\n"
     ]
    }
   ],
   "source": [
    "print(site_df.columns.tolist())\n"
   ]
  },
  {
   "cell_type": "markdown",
   "id": "e14d85b0-1c9b-4593-a70d-42b5f8aeecfb",
   "metadata": {},
   "source": [
    "### check for duplicated "
   ]
  },
  {
   "cell_type": "code",
   "execution_count": 20,
   "id": "818712ba-c8ce-4200-a269-ed5a962f3318",
   "metadata": {},
   "outputs": [
    {
     "data": {
      "text/plain": [
       "np.int64(290)"
      ]
     },
     "execution_count": 20,
     "metadata": {},
     "output_type": "execute_result"
    }
   ],
   "source": [
    "site_df.duplicated(subset=['Site_Number']).sum()\n"
   ]
  },
  {
   "cell_type": "code",
   "execution_count": 22,
   "id": "b93b9fd9-b970-489c-9fbe-9365a75ce89a",
   "metadata": {},
   "outputs": [
    {
     "data": {
      "text/html": [
       "<div>\n",
       "<style scoped>\n",
       "    .dataframe tbody tr th:only-of-type {\n",
       "        vertical-align: middle;\n",
       "    }\n",
       "\n",
       "    .dataframe tbody tr th {\n",
       "        vertical-align: top;\n",
       "    }\n",
       "\n",
       "    .dataframe thead th {\n",
       "        text-align: right;\n",
       "    }\n",
       "</style>\n",
       "<table border=\"1\" class=\"dataframe\">\n",
       "  <thead>\n",
       "    <tr style=\"text-align: right;\">\n",
       "      <th></th>\n",
       "      <th>Site_Number</th>\n",
       "      <th>Location_Description</th>\n",
       "      <th>Site_Type</th>\n",
       "      <th>Directory</th>\n",
       "      <th>Map_reference</th>\n",
       "    </tr>\n",
       "  </thead>\n",
       "  <tbody>\n",
       "  </tbody>\n",
       "</table>\n",
       "</div>"
      ],
      "text/plain": [
       "Empty DataFrame\n",
       "Columns: [Site_Number, Location_Description, Site_Type, Directory, Map_reference]\n",
       "Index: []"
      ]
     },
     "execution_count": 22,
     "metadata": {},
     "output_type": "execute_result"
    }
   ],
   "source": [
    "site_df[site_df['Site_Number'].isnull()]\n"
   ]
  },
  {
   "cell_type": "markdown",
   "id": "7cc831f6-9d6a-497f-8198-84fe4db45d19",
   "metadata": {},
   "source": [
    "### remove duplicate value"
   ]
  },
  {
   "cell_type": "code",
   "execution_count": 23,
   "id": "e949a867-30be-4398-9107-b7208d64cb67",
   "metadata": {},
   "outputs": [
    {
     "name": "stdout",
     "output_type": "stream",
     "text": [
      "Remaining rows after removing duplicates: 4225\n"
     ]
    }
   ],
   "source": [
    "# Remove duplicate site numbers, keeping the first occurrence\n",
    "site_df = site_df.drop_duplicates(subset='Site_Number', keep='first')\n",
    "\n",
    "# Confirm it's done\n",
    "print(f\"Remaining rows after removing duplicates: {len(site_df)}\")\n"
   ]
  },
  {
   "cell_type": "markdown",
   "id": "61e22dbd-09b3-404d-8e48-daafece08d0f",
   "metadata": {},
   "source": [
    "### handling missing value"
   ]
  },
  {
   "cell_type": "code",
   "execution_count": null,
   "id": "ff6b0232-8101-430a-a86a-f1bc53f23d72",
   "metadata": {},
   "outputs": [],
   "source": []
  }
 ],
 "metadata": {
  "kernelspec": {
   "display_name": "Python 3 (ipykernel)",
   "language": "python",
   "name": "python3"
  },
  "language_info": {
   "codemirror_mode": {
    "name": "ipython",
    "version": 3
   },
   "file_extension": ".py",
   "mimetype": "text/x-python",
   "name": "python",
   "nbconvert_exporter": "python",
   "pygments_lexer": "ipython3",
   "version": "3.13.3"
  }
 },
 "nbformat": 4,
 "nbformat_minor": 5
}
